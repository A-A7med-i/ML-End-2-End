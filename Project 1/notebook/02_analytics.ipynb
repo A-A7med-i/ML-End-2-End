{
 "cells": [
  {
   "cell_type": "code",
   "execution_count": 2,
   "metadata": {},
   "outputs": [],
   "source": [
    "from scripts.config import EXPORT_PATH_1, custom_colors"
   ]
  },
  {
   "cell_type": "code",
   "execution_count": 3,
   "metadata": {},
   "outputs": [],
   "source": [
    "from scripts.plots import plot_categorical, plot_numerical, plot_loan_vs_column"
   ]
  },
  {
   "cell_type": "code",
   "execution_count": 4,
   "metadata": {},
   "outputs": [],
   "source": [
    "import pandas as pd\n",
    "import seaborn as sns\n",
    "import matplotlib.pyplot as plt"
   ]
  },
  {
   "cell_type": "code",
   "execution_count": 5,
   "metadata": {},
   "outputs": [],
   "source": [
    "df = pd.read_csv(EXPORT_PATH_1)"
   ]
  },
  {
   "cell_type": "code",
   "execution_count": null,
   "metadata": {},
   "outputs": [],
   "source": [
    "df.head(3)"
   ]
  },
  {
   "cell_type": "code",
   "execution_count": null,
   "metadata": {},
   "outputs": [],
   "source": [
    "df[\"Dependents\"].value_counts()"
   ]
  },
  {
   "cell_type": "code",
   "execution_count": null,
   "metadata": {},
   "outputs": [],
   "source": [
    "df[\"Credit_History\"].value_counts()"
   ]
  },
  {
   "cell_type": "code",
   "execution_count": 9,
   "metadata": {},
   "outputs": [],
   "source": [
    "df[\"Dependents\"] = df[\"Dependents\"].astype(\"object\")"
   ]
  },
  {
   "cell_type": "code",
   "execution_count": 10,
   "metadata": {},
   "outputs": [],
   "source": [
    "df[\"Credit_History\"] = df[\"Credit_History\"].astype(\"object\")"
   ]
  },
  {
   "cell_type": "code",
   "execution_count": 11,
   "metadata": {},
   "outputs": [],
   "source": [
    "cat_col = df.select_dtypes(include=\"object\").columns.tolist()\n",
    "num_col = df.select_dtypes(exclude=\"object\").columns.tolist()"
   ]
  },
  {
   "cell_type": "code",
   "execution_count": null,
   "metadata": {},
   "outputs": [],
   "source": [
    "for col in cat_col:\n",
    "    plot_categorical(df, col, custom_colors)"
   ]
  },
  {
   "cell_type": "code",
   "execution_count": null,
   "metadata": {},
   "outputs": [],
   "source": [
    "for col in num_col:\n",
    "    plot_numerical(df, col, custom_colors)"
   ]
  },
  {
   "cell_type": "code",
   "execution_count": null,
   "metadata": {},
   "outputs": [],
   "source": [
    "num_col"
   ]
  },
  {
   "cell_type": "code",
   "execution_count": null,
   "metadata": {},
   "outputs": [],
   "source": [
    "fig, axes = plt.subplots(nrows=2, ncols=2, figsize=(13, 10))\n",
    "\n",
    "for i, column in enumerate(num_col):\n",
    "    row = i // 2\n",
    "    col = i % 2\n",
    "\n",
    "    sns.boxplot(data=df, x=column, color=custom_colors[i + 2], ax=axes[row, col])\n",
    "    axes[row, col].set_title(column)\n",
    "    axes[row, col].set_xlabel(\"\")"
   ]
  },
  {
   "cell_type": "code",
   "execution_count": 16,
   "metadata": {},
   "outputs": [],
   "source": [
    "columns = [\"Dependents\", \"Credit_History\", \"Property_Area\", \"Self_Employed\"]"
   ]
  },
  {
   "cell_type": "code",
   "execution_count": null,
   "metadata": {},
   "outputs": [],
   "source": [
    "plot_loan_vs_column(df, columns, custom_colors)"
   ]
  },
  {
   "cell_type": "code",
   "execution_count": null,
   "metadata": {},
   "outputs": [],
   "source": [
    "plt.figure(figsize=(10, 5))\n",
    "\n",
    "sns.scatterplot(\n",
    "    data=df,\n",
    "    x=\"ApplicantIncome\",\n",
    "    y=\"CoapplicantIncome\",\n",
    "    alpha=0.7,\n",
    "    color=custom_colors[3],\n",
    ")\n",
    "\n",
    "plt.xlabel(\"Applicant Income\")\n",
    "plt.ylabel(\"Coapplicant Income\")\n",
    "plt.title(\"Applicant Income vs. Coapplicant Income\")\n",
    "plt.show()"
   ]
  },
  {
   "cell_type": "markdown",
   "metadata": {},
   "source": [
    "Conclusion :\n",
    "\n",
    "    * Imbalance classes\n",
    "    * Outliers"
   ]
  }
 ],
 "metadata": {
  "kernelspec": {
   "display_name": "end-to-end",
   "language": "python",
   "name": "python3"
  },
  "language_info": {
   "codemirror_mode": {
    "name": "ipython",
    "version": 3
   },
   "file_extension": ".py",
   "mimetype": "text/x-python",
   "name": "python",
   "nbconvert_exporter": "python",
   "pygments_lexer": "ipython3",
   "version": "3.12.5"
  }
 },
 "nbformat": 4,
 "nbformat_minor": 2
}
