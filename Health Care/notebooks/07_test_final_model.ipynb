{
 "cells": [
  {
   "cell_type": "code",
   "execution_count": 1,
   "metadata": {},
   "outputs": [],
   "source": [
    "import sys\n",
    "\n",
    "sys.path.append(\"../\")"
   ]
  },
  {
   "cell_type": "code",
   "execution_count": 2,
   "metadata": {},
   "outputs": [],
   "source": [
    "from scripts.configuration import FINAL_EXPORT_PATH, MODEL_PATH\n",
    "from scripts.saving import save_model\n",
    "from modeling.base import EvaluationMetrics\n",
    "from modeling.rf import RandomForest"
   ]
  },
  {
   "cell_type": "code",
   "execution_count": 3,
   "metadata": {},
   "outputs": [],
   "source": [
    "import pandas as pd"
   ]
  },
  {
   "cell_type": "code",
   "execution_count": 4,
   "metadata": {},
   "outputs": [],
   "source": [
    "df = pd.read_csv(FINAL_EXPORT_PATH)"
   ]
  },
  {
   "cell_type": "code",
   "execution_count": 5,
   "metadata": {},
   "outputs": [],
   "source": [
    "df_copy = df.copy()"
   ]
  },
  {
   "cell_type": "code",
   "execution_count": 6,
   "metadata": {},
   "outputs": [
    {
     "data": {
      "text/html": [
       "<div>\n",
       "<style scoped>\n",
       "    .dataframe tbody tr th:only-of-type {\n",
       "        vertical-align: middle;\n",
       "    }\n",
       "\n",
       "    .dataframe tbody tr th {\n",
       "        vertical-align: top;\n",
       "    }\n",
       "\n",
       "    .dataframe thead th {\n",
       "        text-align: right;\n",
       "    }\n",
       "</style>\n",
       "<table border=\"1\" class=\"dataframe\">\n",
       "  <thead>\n",
       "    <tr style=\"text-align: right;\">\n",
       "      <th></th>\n",
       "      <th>Age</th>\n",
       "      <th>Gender</th>\n",
       "      <th>Blood Type</th>\n",
       "      <th>Medical Condition</th>\n",
       "      <th>Insurance Provider</th>\n",
       "      <th>Billing Amount</th>\n",
       "      <th>Room Number</th>\n",
       "      <th>Admission Type</th>\n",
       "      <th>Medication</th>\n",
       "      <th>Test Results</th>\n",
       "      <th>Length Of Stay</th>\n",
       "      <th>Age Group</th>\n",
       "      <th>Admission Season</th>\n",
       "      <th>Cost Per Day</th>\n",
       "    </tr>\n",
       "  </thead>\n",
       "  <tbody>\n",
       "    <tr>\n",
       "      <th>47771</th>\n",
       "      <td>24</td>\n",
       "      <td>0</td>\n",
       "      <td>3</td>\n",
       "      <td>2</td>\n",
       "      <td>0</td>\n",
       "      <td>6325.695</td>\n",
       "      <td>237</td>\n",
       "      <td>1</td>\n",
       "      <td>2</td>\n",
       "      <td>2</td>\n",
       "      <td>10</td>\n",
       "      <td>4</td>\n",
       "      <td>3</td>\n",
       "      <td>632.570</td>\n",
       "    </tr>\n",
       "    <tr>\n",
       "      <th>11174</th>\n",
       "      <td>38</td>\n",
       "      <td>0</td>\n",
       "      <td>6</td>\n",
       "      <td>5</td>\n",
       "      <td>2</td>\n",
       "      <td>24192.134</td>\n",
       "      <td>165</td>\n",
       "      <td>0</td>\n",
       "      <td>4</td>\n",
       "      <td>2</td>\n",
       "      <td>29</td>\n",
       "      <td>0</td>\n",
       "      <td>0</td>\n",
       "      <td>834.212</td>\n",
       "    </tr>\n",
       "    <tr>\n",
       "      <th>722</th>\n",
       "      <td>44</td>\n",
       "      <td>1</td>\n",
       "      <td>5</td>\n",
       "      <td>0</td>\n",
       "      <td>1</td>\n",
       "      <td>19691.421</td>\n",
       "      <td>264</td>\n",
       "      <td>0</td>\n",
       "      <td>0</td>\n",
       "      <td>1</td>\n",
       "      <td>25</td>\n",
       "      <td>0</td>\n",
       "      <td>1</td>\n",
       "      <td>787.657</td>\n",
       "    </tr>\n",
       "    <tr>\n",
       "      <th>34880</th>\n",
       "      <td>85</td>\n",
       "      <td>0</td>\n",
       "      <td>6</td>\n",
       "      <td>5</td>\n",
       "      <td>3</td>\n",
       "      <td>13024.522</td>\n",
       "      <td>474</td>\n",
       "      <td>1</td>\n",
       "      <td>3</td>\n",
       "      <td>2</td>\n",
       "      <td>25</td>\n",
       "      <td>3</td>\n",
       "      <td>3</td>\n",
       "      <td>520.981</td>\n",
       "    </tr>\n",
       "    <tr>\n",
       "      <th>31299</th>\n",
       "      <td>48</td>\n",
       "      <td>1</td>\n",
       "      <td>6</td>\n",
       "      <td>0</td>\n",
       "      <td>3</td>\n",
       "      <td>12756.307</td>\n",
       "      <td>456</td>\n",
       "      <td>0</td>\n",
       "      <td>0</td>\n",
       "      <td>1</td>\n",
       "      <td>16</td>\n",
       "      <td>0</td>\n",
       "      <td>2</td>\n",
       "      <td>797.269</td>\n",
       "    </tr>\n",
       "  </tbody>\n",
       "</table>\n",
       "</div>"
      ],
      "text/plain": [
       "       Age  Gender  Blood Type  Medical Condition  Insurance Provider  \\\n",
       "47771   24       0           3                  2                   0   \n",
       "11174   38       0           6                  5                   2   \n",
       "722     44       1           5                  0                   1   \n",
       "34880   85       0           6                  5                   3   \n",
       "31299   48       1           6                  0                   3   \n",
       "\n",
       "       Billing Amount  Room Number  Admission Type  Medication  Test Results  \\\n",
       "47771        6325.695          237               1           2             2   \n",
       "11174       24192.134          165               0           4             2   \n",
       "722         19691.421          264               0           0             1   \n",
       "34880       13024.522          474               1           3             2   \n",
       "31299       12756.307          456               0           0             1   \n",
       "\n",
       "       Length Of Stay  Age Group  Admission Season  Cost Per Day  \n",
       "47771              10          4                 3       632.570  \n",
       "11174              29          0                 0       834.212  \n",
       "722                25          0                 1       787.657  \n",
       "34880              25          3                 3       520.981  \n",
       "31299              16          0                 2       797.269  "
      ]
     },
     "execution_count": 6,
     "metadata": {},
     "output_type": "execute_result"
    }
   ],
   "source": [
    "df_copy.sample(5)"
   ]
  },
  {
   "cell_type": "code",
   "execution_count": 7,
   "metadata": {},
   "outputs": [],
   "source": [
    "X = df.drop([\"Test Results\"], axis=1)\n",
    "y = df[\"Test Results\"]"
   ]
  },
  {
   "cell_type": "code",
   "execution_count": 8,
   "metadata": {},
   "outputs": [],
   "source": [
    "model = RandomForest()"
   ]
  },
  {
   "cell_type": "code",
   "execution_count": 9,
   "metadata": {},
   "outputs": [],
   "source": [
    "model.train(X, y)"
   ]
  },
  {
   "cell_type": "code",
   "execution_count": 10,
   "metadata": {},
   "outputs": [
    {
     "data": {
      "text/plain": [
       "array([0, 0, 0, ..., 0, 0, 0])"
      ]
     },
     "execution_count": 10,
     "metadata": {},
     "output_type": "execute_result"
    }
   ],
   "source": [
    "model.prediction()"
   ]
  },
  {
   "cell_type": "code",
   "execution_count": 11,
   "metadata": {},
   "outputs": [],
   "source": [
    "metrics = model.evaluate()"
   ]
  },
  {
   "cell_type": "code",
   "execution_count": 12,
   "metadata": {},
   "outputs": [],
   "source": [
    "accuracy = metrics.accuracy\n",
    "recall = metrics.recall\n",
    "precision = metrics.precision\n",
    "f1 = metrics.f1\n",
    "confusion_matrix = metrics.confusion_matrix "
   ]
  },
  {
   "cell_type": "code",
   "execution_count": 13,
   "metadata": {},
   "outputs": [
    {
     "name": "stdout",
     "output_type": "stream",
     "text": [
      "Model Performance Metrics:\n",
      "-------------------------\n",
      "Accuracy: 0.44\n",
      "Recall: 0.44\n",
      "Precision: 0.44\n",
      "F1-Score: 0.44\n",
      "\n",
      "Confusion Matrix:\n",
      "[[1690 1047 1017]\n",
      " [1058 1575  984]\n",
      " [1088  999 1642]]\n"
     ]
    }
   ],
   "source": [
    "EvaluationMetrics(accuracy, recall, precision, f1, confusion_matrix).display()"
   ]
  },
  {
   "cell_type": "code",
   "execution_count": 14,
   "metadata": {},
   "outputs": [
    {
     "name": "stdout",
     "output_type": "stream",
     "text": [
      "Model is saved at E:\\project4\\model\\model.pkl\n"
     ]
    }
   ],
   "source": [
    "save_model(model, MODEL_PATH)"
   ]
  },
  {
   "cell_type": "code",
   "execution_count": 11,
   "metadata": {},
   "outputs": [],
   "source": [
    "from flask import Flask, request, jsonify, render_template\n",
    "from scripts.configuration import MODEL_PATH, ENCODER_PATH\n",
    "from scripts.features import new_features\n",
    "from typing import List\n",
    "import pandas as pd\n",
    "import joblib\n",
    "\n",
    "\n",
    "class ModelPredictor:\n",
    "    COLUMNS = [\n",
    "        \"Gender\",\n",
    "        \"Blood Type\",\n",
    "        \"Medical Condition\",\n",
    "        \"Insurance Provider\",\n",
    "        \"Admission Type\",\n",
    "        \"Medication\",\n",
    "    ]\n",
    "\n",
    "    FEATURES = [\n",
    "        \"Age\",\n",
    "        \"Gender\",\n",
    "        \"Blood Type\",\n",
    "        \"Medical Condition\",\n",
    "        \"Date of Admission\",\n",
    "        \"Insurance Provider\",\n",
    "        \"Billing Amount\",\n",
    "        \"Room Number\",\n",
    "        \"Admission Type\",\n",
    "        \"Discharge Date\",\n",
    "        \"Medication\",\n",
    "    ]\n",
    "\n",
    "    REVERSE_MAP = {0: \"Normal\", 1: \"Inconclusive\", 2: \"Abnormal\"}\n",
    "\n",
    "    def __init__(self, model_path: str, encoder_path: str):\n",
    "        self.model = joblib.load(model_path)\n",
    "        self.encoder = joblib.load(encoder_path)\n",
    "\n",
    "    def _prepare_features(self, input_data: List) -> pd.DataFrame:\n",
    "        df = pd.DataFrame([dict(zip(self.FEATURES, input_data))])\n",
    "\n",
    "        df = new_features(df)\n",
    "\n",
    "        df = df.drop([\"Date of Admission\", \"Discharge Date\"], axis=1)\n",
    "\n",
    "        df[self.COLUMNS] = self.encoder.transform(df[self.COLUMNS])\n",
    "\n",
    "        return df\n",
    "\n",
    "    def predict(self, input_data: List) -> str:\n",
    "        features_df = self._prepare_features(input_data)\n",
    "\n",
    "        prediction = self.model.predict_client(features_df)[0]\n",
    "\n",
    "        return self.REVERSE_MAP[prediction]\n",
    "\n",
    "\n",
    "model = ModelPredictor(MODEL_PATH, ENCODER_PATH)"
   ]
  },
  {
   "cell_type": "code",
   "execution_count": 12,
   "metadata": {},
   "outputs": [],
   "source": [
    "in_df = [30,\"Male\",\"B-\",\"Cancer\",\"2024-01-31\",\"Blue Cross\",18856.281305978155,328,\"Urgent\",\"2024-02-02\",\"Paracetamol\"]"
   ]
  },
  {
   "cell_type": "code",
   "execution_count": 13,
   "metadata": {},
   "outputs": [
    {
     "data": {
      "text/html": [
       "<div>\n",
       "<style scoped>\n",
       "    .dataframe tbody tr th:only-of-type {\n",
       "        vertical-align: middle;\n",
       "    }\n",
       "\n",
       "    .dataframe tbody tr th {\n",
       "        vertical-align: top;\n",
       "    }\n",
       "\n",
       "    .dataframe thead th {\n",
       "        text-align: right;\n",
       "    }\n",
       "</style>\n",
       "<table border=\"1\" class=\"dataframe\">\n",
       "  <thead>\n",
       "    <tr style=\"text-align: right;\">\n",
       "      <th></th>\n",
       "      <th>Age</th>\n",
       "      <th>Gender</th>\n",
       "      <th>Blood Type</th>\n",
       "      <th>Medical Condition</th>\n",
       "      <th>Insurance Provider</th>\n",
       "      <th>Billing Amount</th>\n",
       "      <th>Room Number</th>\n",
       "      <th>Admission Type</th>\n",
       "      <th>Medication</th>\n",
       "      <th>Length Of Stay</th>\n",
       "      <th>Age Group</th>\n",
       "      <th>Admission Season</th>\n",
       "      <th>Cost Per Day</th>\n",
       "    </tr>\n",
       "  </thead>\n",
       "  <tbody>\n",
       "    <tr>\n",
       "      <th>0</th>\n",
       "      <td>30</td>\n",
       "      <td>1</td>\n",
       "      <td>5</td>\n",
       "      <td>2</td>\n",
       "      <td>1</td>\n",
       "      <td>18856.281306</td>\n",
       "      <td>328</td>\n",
       "      <td>2</td>\n",
       "      <td>3</td>\n",
       "      <td>2</td>\n",
       "      <td>1</td>\n",
       "      <td>0</td>\n",
       "      <td>9428.141</td>\n",
       "    </tr>\n",
       "  </tbody>\n",
       "</table>\n",
       "</div>"
      ],
      "text/plain": [
       "   Age  Gender  Blood Type  Medical Condition  Insurance Provider  \\\n",
       "0   30       1           5                  2                   1   \n",
       "\n",
       "   Billing Amount  Room Number  Admission Type  Medication  Length Of Stay  \\\n",
       "0    18856.281306          328               2           3               2   \n",
       "\n",
       "  Age Group  Admission Season  Cost Per Day  \n",
       "0         1                 0      9428.141  "
      ]
     },
     "execution_count": 13,
     "metadata": {},
     "output_type": "execute_result"
    }
   ],
   "source": [
    "model._prepare_features(in_df)"
   ]
  }
 ],
 "metadata": {
  "kernelspec": {
   "display_name": "venv",
   "language": "python",
   "name": "python3"
  },
  "language_info": {
   "codemirror_mode": {
    "name": "ipython",
    "version": 3
   },
   "file_extension": ".py",
   "mimetype": "text/x-python",
   "name": "python",
   "nbconvert_exporter": "python",
   "pygments_lexer": "ipython3",
   "version": "3.12.3"
  }
 },
 "nbformat": 4,
 "nbformat_minor": 2
}
