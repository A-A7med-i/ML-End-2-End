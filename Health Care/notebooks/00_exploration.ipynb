{
 "cells": [
  {
   "cell_type": "code",
   "execution_count": null,
   "id": "initial_id",
   "metadata": {
    "ExecuteTime": {
     "end_time": "2024-11-30T19:13:42.012255Z",
     "start_time": "2024-11-30T19:13:41.998190Z"
    },
    "collapsed": true
   },
   "outputs": [],
   "source": [
    "import sys \n",
    "\n",
    "sys.path.append('../')"
   ]
  },
  {
   "cell_type": "code",
   "execution_count": null,
   "id": "ac488c9e5753f3d4",
   "metadata": {
    "ExecuteTime": {
     "end_time": "2024-11-30T19:15:57.933085Z",
     "start_time": "2024-11-30T19:15:57.917408Z"
    }
   },
   "outputs": [],
   "source": [
    "from scripts.configuration import DATA_PATH"
   ]
  },
  {
   "cell_type": "code",
   "execution_count": null,
   "id": "1d2fbaccbe5b0171",
   "metadata": {
    "ExecuteTime": {
     "end_time": "2024-11-30T19:17:17.704776Z",
     "start_time": "2024-11-30T19:17:14.989325Z"
    }
   },
   "outputs": [],
   "source": [
    "import pandas as pd"
   ]
  },
  {
   "cell_type": "code",
   "execution_count": null,
   "id": "7df7da279b5f107c",
   "metadata": {
    "ExecuteTime": {
     "end_time": "2024-11-30T19:17:45.121978Z",
     "start_time": "2024-11-30T19:17:44.431230Z"
    }
   },
   "outputs": [],
   "source": [
    "df = pd.read_csv(DATA_PATH)"
   ]
  },
  {
   "cell_type": "code",
   "execution_count": null,
   "id": "74850ff025bb98b4",
   "metadata": {
    "ExecuteTime": {
     "end_time": "2024-11-30T19:18:01.360324Z",
     "start_time": "2024-11-30T19:18:01.227735Z"
    }
   },
   "outputs": [],
   "source": [
    "df.sample(5)"
   ]
  },
  {
   "cell_type": "code",
   "execution_count": null,
   "id": "8a5fce7b43632827",
   "metadata": {
    "ExecuteTime": {
     "end_time": "2024-11-30T19:19:07.752773Z",
     "start_time": "2024-11-30T19:19:07.580656Z"
    }
   },
   "outputs": [],
   "source": [
    "df.info()"
   ]
  },
  {
   "cell_type": "code",
   "execution_count": null,
   "id": "f9b689ef0a21bc6d",
   "metadata": {
    "ExecuteTime": {
     "end_time": "2024-11-30T19:21:17.453648Z",
     "start_time": "2024-11-30T19:21:17.386532Z"
    }
   },
   "outputs": [],
   "source": [
    "df.describe().round(3).T"
   ]
  },
  {
   "cell_type": "code",
   "execution_count": null,
   "id": "eb0eec55860cb0df",
   "metadata": {
    "ExecuteTime": {
     "end_time": "2024-11-30T19:49:25.191116Z",
     "start_time": "2024-11-30T19:49:24.957614Z"
    }
   },
   "outputs": [],
   "source": [
    "for column in df.select_dtypes(include=\"object\").columns:\n",
    "    print(column.center(50, \"#\"))\n",
    "    if df[column].nunique() < 10:\n",
    "        print(*df[column].unique())\n",
    "    else:\n",
    "        print(df[column].nunique())\n",
    "    print()"
   ]
  }
 ],
 "metadata": {
  "kernelspec": {
   "display_name": "venv",
   "language": "python",
   "name": "python3"
  },
  "language_info": {
   "codemirror_mode": {
    "name": "ipython",
    "version": 3
   },
   "file_extension": ".py",
   "mimetype": "text/x-python",
   "name": "python",
   "nbconvert_exporter": "python",
   "pygments_lexer": "ipython3",
   "version": "3.12.3"
  }
 },
 "nbformat": 4,
 "nbformat_minor": 5
}
