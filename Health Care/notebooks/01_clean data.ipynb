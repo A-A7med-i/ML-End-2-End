{
 "cells": [
  {
   "cell_type": "code",
   "execution_count": null,
   "id": "7bed8d5ef09839ba",
   "metadata": {
    "ExecuteTime": {
     "end_time": "2024-12-02T18:50:29.090666Z",
     "start_time": "2024-12-02T18:50:28.194546Z"
    }
   },
   "outputs": [],
   "source": [
    "from scripts.configuration import DATA_PATH, EXPORT_PATH_1\n",
    "from scripts.saving import save_data"
   ]
  },
  {
   "cell_type": "code",
   "execution_count": null,
   "id": "510d037f17924fc",
   "metadata": {
    "ExecuteTime": {
     "end_time": "2024-12-02T18:50:29.913813Z",
     "start_time": "2024-12-02T18:50:29.909173Z"
    }
   },
   "outputs": [],
   "source": [
    "import pandas as pd"
   ]
  },
  {
   "cell_type": "code",
   "execution_count": null,
   "id": "ac01ec2957194c04",
   "metadata": {
    "ExecuteTime": {
     "end_time": "2024-12-02T18:50:31.600257Z",
     "start_time": "2024-12-02T18:50:31.213822Z"
    }
   },
   "outputs": [],
   "source": [
    "df = pd.read_csv(DATA_PATH)"
   ]
  },
  {
   "cell_type": "code",
   "execution_count": null,
   "id": "ec60d9229e733816",
   "metadata": {
    "ExecuteTime": {
     "end_time": "2024-12-02T18:50:32.570157Z",
     "start_time": "2024-12-02T18:50:32.305490Z"
    }
   },
   "outputs": [],
   "source": [
    "df.sample(5)"
   ]
  },
  {
   "cell_type": "code",
   "execution_count": null,
   "id": "1d82e8f61b936f06",
   "metadata": {
    "ExecuteTime": {
     "end_time": "2024-12-02T18:50:34.336295Z",
     "start_time": "2024-12-02T18:50:34.284743Z"
    }
   },
   "outputs": [],
   "source": [
    "df.isnull().sum()"
   ]
  },
  {
   "cell_type": "code",
   "execution_count": null,
   "id": "436ddd8f6660c999",
   "metadata": {
    "ExecuteTime": {
     "end_time": "2024-12-02T18:50:36.785825Z",
     "start_time": "2024-12-02T18:50:36.615130Z"
    }
   },
   "outputs": [],
   "source": [
    "df[\"Date of Admission\"] = pd.to_datetime(df[\"Date of Admission\"])\n",
    "df[\"Discharge Date\"] = pd.to_datetime(df[\"Discharge Date\"])"
   ]
  },
  {
   "cell_type": "code",
   "execution_count": null,
   "id": "b89e5d20206dd2f3",
   "metadata": {
    "ExecuteTime": {
     "end_time": "2024-12-02T18:50:38.196852Z",
     "start_time": "2024-12-02T18:50:38.128564Z"
    }
   },
   "outputs": [],
   "source": [
    "df = df.drop([\"Name\", \"Hospital\", \"Doctor\"], axis=1)"
   ]
  },
  {
   "cell_type": "code",
   "execution_count": null,
   "id": "8f632c9f76d63890",
   "metadata": {
    "ExecuteTime": {
     "end_time": "2024-12-02T18:50:40.019015Z",
     "start_time": "2024-12-02T18:50:39.277125Z"
    }
   },
   "outputs": [],
   "source": [
    "save_data(df, EXPORT_PATH_1)"
   ]
  }
 ],
 "metadata": {
  "kernelspec": {
   "display_name": "venv",
   "language": "python",
   "name": "python3"
  },
  "language_info": {
   "codemirror_mode": {
    "name": "ipython",
    "version": 2
   },
   "file_extension": ".py",
   "mimetype": "text/x-python",
   "name": "python",
   "nbconvert_exporter": "python",
   "pygments_lexer": "ipython2",
   "version": "3.12.3"
  }
 },
 "nbformat": 4,
 "nbformat_minor": 5
}
