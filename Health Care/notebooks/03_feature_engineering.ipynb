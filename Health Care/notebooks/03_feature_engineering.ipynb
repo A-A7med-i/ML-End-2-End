{
 "cells": [
  {
   "cell_type": "code",
   "execution_count": null,
   "id": "b0b3978f",
   "metadata": {},
   "outputs": [],
   "source": [
    "from scripts.configuration import EXPORT_PATH_1, EXPORT_PATH_2\n",
    "from scripts.features import new_features\n",
    "from scripts.saving import save_data"
   ]
  },
  {
   "cell_type": "code",
   "execution_count": null,
   "id": "ec380cdc",
   "metadata": {},
   "outputs": [],
   "source": [
    "import pandas as pd"
   ]
  },
  {
   "cell_type": "code",
   "execution_count": null,
   "id": "dcae2eb5",
   "metadata": {},
   "outputs": [],
   "source": [
    "df = pd.read_csv(EXPORT_PATH_1)"
   ]
  },
  {
   "cell_type": "code",
   "execution_count": null,
   "id": "3e24e593",
   "metadata": {},
   "outputs": [],
   "source": [
    "df.sample(5)"
   ]
  },
  {
   "cell_type": "code",
   "execution_count": null,
   "id": "9fcd0f46",
   "metadata": {},
   "outputs": [],
   "source": [
    "new_df = new_features(df)"
   ]
  },
  {
   "cell_type": "code",
   "execution_count": null,
   "id": "3ba78d4b",
   "metadata": {},
   "outputs": [],
   "source": [
    "save_data(new_df, EXPORT_PATH_2)"
   ]
  }
 ],
 "metadata": {
  "kernelspec": {
   "display_name": "venv",
   "language": "python",
   "name": "python3"
  },
  "language_info": {
   "codemirror_mode": {
    "name": "ipython",
    "version": 3
   },
   "file_extension": ".py",
   "mimetype": "text/x-python",
   "name": "python",
   "nbconvert_exporter": "python",
   "pygments_lexer": "ipython3",
   "version": "3.12.3"
  }
 },
 "nbformat": 4,
 "nbformat_minor": 5
}
