{
 "cells": [
  {
   "cell_type": "code",
   "execution_count": null,
   "id": "initial_id",
   "metadata": {
    "ExecuteTime": {
     "end_time": "2024-12-02T19:01:43.404181Z",
     "start_time": "2024-12-02T19:01:42.521521Z"
    },
    "collapsed": true
   },
   "outputs": [],
   "source": [
    "from scripts.configuration import EXPORT_PATH_1\n",
    "from scripts.visualization import bar_plot, box_plot, plot_average_billing_scatter"
   ]
  },
  {
   "cell_type": "code",
   "execution_count": null,
   "id": "fd822d07",
   "metadata": {},
   "outputs": [],
   "source": [
    "import pandas as pd"
   ]
  },
  {
   "cell_type": "code",
   "execution_count": null,
   "id": "ffd58db247bebba4",
   "metadata": {
    "ExecuteTime": {
     "end_time": "2024-12-02T19:01:43.843482Z",
     "start_time": "2024-12-02T19:01:43.696901Z"
    }
   },
   "outputs": [],
   "source": [
    "df = pd.read_csv(EXPORT_PATH_1)"
   ]
  },
  {
   "cell_type": "code",
   "execution_count": null,
   "id": "ae73b0cee19fffa2",
   "metadata": {
    "ExecuteTime": {
     "end_time": "2024-12-02T19:01:43.904600Z",
     "start_time": "2024-12-02T19:01:43.875107Z"
    }
   },
   "outputs": [],
   "source": [
    "df.sample(5)"
   ]
  },
  {
   "cell_type": "code",
   "execution_count": null,
   "id": "1a6414434f624b80",
   "metadata": {
    "ExecuteTime": {
     "end_time": "2024-12-02T19:01:44.049291Z",
     "start_time": "2024-12-02T19:01:44.012776Z"
    }
   },
   "outputs": [],
   "source": [
    "numerical_columns = df.select_dtypes(include='number').columns.tolist()\n",
    "categorical_columns = (df.drop([\"Discharge Date\", \"Date of Admission\"], axis=1).select_dtypes(include='object').columns.tolist())"
   ]
  },
  {
   "cell_type": "code",
   "execution_count": null,
   "id": "bd3aea6d01e07ac5",
   "metadata": {
    "ExecuteTime": {
     "end_time": "2024-12-02T19:01:44.979401Z",
     "start_time": "2024-12-02T19:01:44.866724Z"
    }
   },
   "outputs": [],
   "source": [
    "df['Date of Admission'] = pd.to_datetime(df['Date of Admission'])\n",
    "df['Discharge Date'] = pd.to_datetime(df['Discharge Date'])"
   ]
  },
  {
   "cell_type": "code",
   "execution_count": null,
   "id": "2a44733e2aef5a86",
   "metadata": {
    "ExecuteTime": {
     "end_time": "2024-12-02T19:01:45.035646Z",
     "start_time": "2024-12-02T19:01:45.012242Z"
    }
   },
   "outputs": [],
   "source": [
    "df[\"Length of Stay\"] = (df['Discharge Date'] - df['Date of Admission']).dt.days"
   ]
  },
  {
   "cell_type": "code",
   "execution_count": null,
   "id": "eae313644f96d40",
   "metadata": {
    "ExecuteTime": {
     "end_time": "2024-12-02T19:01:45.072607Z",
     "start_time": "2024-12-02T19:01:45.066352Z"
    }
   },
   "outputs": [],
   "source": [
    "categorical_columns.append(\"Length of Stay\")"
   ]
  },
  {
   "cell_type": "code",
   "execution_count": null,
   "id": "b656508e88ff4def",
   "metadata": {
    "ExecuteTime": {
     "end_time": "2024-12-02T19:01:46.413182Z",
     "start_time": "2024-12-02T19:01:45.106956Z"
    }
   },
   "outputs": [],
   "source": [
    "for column in numerical_columns:\n",
    "    box_plot(df, column)"
   ]
  },
  {
   "cell_type": "code",
   "execution_count": null,
   "id": "434db9b99faff34d",
   "metadata": {
    "ExecuteTime": {
     "end_time": "2024-12-02T19:01:48.369579Z",
     "start_time": "2024-12-02T19:01:46.757193Z"
    }
   },
   "outputs": [],
   "source": [
    "for column in categorical_columns:\n",
    "    bar_plot(df, column)"
   ]
  },
  {
   "cell_type": "code",
   "execution_count": null,
   "id": "b80f908c33262f",
   "metadata": {
    "ExecuteTime": {
     "end_time": "2024-12-02T19:01:48.395441Z",
     "start_time": "2024-12-02T19:01:48.384373Z"
    }
   },
   "outputs": [],
   "source": [
    "df.columns"
   ]
  },
  {
   "cell_type": "code",
   "execution_count": null,
   "id": "0b8c084b",
   "metadata": {},
   "outputs": [],
   "source": [
    "for column in df.drop(\n",
    "    [\"Date of Admission\", \"Discharge Date\", \"Billing Amount\", \"Room Number\"],\n",
    "    axis=1,\n",
    ").columns:\n",
    "    plot_average_billing_scatter(df, column)"
   ]
  }
 ],
 "metadata": {
  "kernelspec": {
   "display_name": "venv",
   "language": "python",
   "name": "python3"
  },
  "language_info": {
   "codemirror_mode": {
    "name": "ipython",
    "version": 3
   },
   "file_extension": ".py",
   "mimetype": "text/x-python",
   "name": "python",
   "nbconvert_exporter": "python",
   "pygments_lexer": "ipython3",
   "version": "3.12.3"
  }
 },
 "nbformat": 4,
 "nbformat_minor": 5
}
