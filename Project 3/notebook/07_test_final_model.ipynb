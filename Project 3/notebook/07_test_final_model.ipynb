{
 "cells": [
  {
   "cell_type": "code",
   "execution_count": null,
   "metadata": {},
   "outputs": [],
   "source": [
    "import sys\n",
    "\n",
    "sys.path.append('../')"
   ]
  },
  {
   "cell_type": "code",
   "execution_count": null,
   "metadata": {},
   "outputs": [],
   "source": [
    "from script.saving import save_model\n",
    "from script.config import FINAL_PATH, MODEL_PATH\n",
    "from modeling.svc import SupportVectorClassifier"
   ]
  },
  {
   "cell_type": "code",
   "execution_count": null,
   "metadata": {},
   "outputs": [],
   "source": [
    "import pandas as pd"
   ]
  },
  {
   "cell_type": "code",
   "execution_count": null,
   "metadata": {},
   "outputs": [],
   "source": [
    "df = pd.read_csv(FINAL_PATH)"
   ]
  },
  {
   "cell_type": "code",
   "execution_count": null,
   "metadata": {},
   "outputs": [],
   "source": [
    "X = df.drop(\"User Behavior Class\", axis=1)\n",
    "y = df[\"User Behavior Class\"]"
   ]
  },
  {
   "cell_type": "code",
   "execution_count": null,
   "metadata": {},
   "outputs": [],
   "source": [
    "model = SupportVectorClassifier()"
   ]
  },
  {
   "cell_type": "code",
   "execution_count": null,
   "metadata": {},
   "outputs": [],
   "source": [
    "model.train(X, y)"
   ]
  },
  {
   "cell_type": "code",
   "execution_count": null,
   "metadata": {},
   "outputs": [],
   "source": [
    "y_pred = model.prediction()"
   ]
  },
  {
   "cell_type": "code",
   "execution_count": null,
   "metadata": {},
   "outputs": [],
   "source": [
    "metrics = model.evaluate()"
   ]
  },
  {
   "cell_type": "code",
   "execution_count": null,
   "metadata": {},
   "outputs": [],
   "source": [
    "metrics.display()"
   ]
  },
  {
   "cell_type": "code",
   "execution_count": null,
   "metadata": {},
   "outputs": [],
   "source": [
    "save_model(model, MODEL_PATH)"
   ]
  },
  {
   "cell_type": "code",
   "execution_count": null,
   "metadata": {},
   "outputs": [],
   "source": [
    "import sys\n",
    "\n",
    "sys.path.append(\"../\")"
   ]
  },
  {
   "cell_type": "code",
   "execution_count": null,
   "metadata": {},
   "outputs": [],
   "source": [
    "from script.feature import new_features\n",
    "from script.config import MODEL_PATH\n",
    "from pydantic import BaseModel\n",
    "from fastapi import FastAPI\n",
    "import pandas as pd\n",
    "import numpy as np\n",
    "import joblib"
   ]
  },
  {
   "cell_type": "code",
   "execution_count": null,
   "metadata": {},
   "outputs": [],
   "source": [
    "class InputData(BaseModel):\n",
    "    f1: int\n",
    "    f2: int\n",
    "    f3: float\n",
    "    f4: float\n",
    "    f5: float\n",
    "    f6: int\n",
    "    f7: float"
   ]
  },
  {
   "cell_type": "code",
   "execution_count": null,
   "metadata": {},
   "outputs": [],
   "source": [
    "FEATURE_NAMES = [\n",
    "        \"Device Model\",\n",
    "        \"Operating System\",\n",
    "        \"App Usage Time (min/day)\",\n",
    "        \"Screen On Time (hours/day)\",\n",
    "        \"Battery Drain (mAh/day)\",\n",
    "        \"Number of Apps Installed\",\n",
    "        \"Data Usage (MB/day)\",\n",
    "]"
   ]
  },
  {
   "cell_type": "code",
   "execution_count": null,
   "metadata": {},
   "outputs": [],
   "source": [
    "model = joblib.load(MODEL_PATH)"
   ]
  },
  {
   "cell_type": "code",
   "execution_count": null,
   "metadata": {},
   "outputs": [],
   "source": [
    "data = InputData(f1=1, f2=2, f3=3, f4=4, f5=5, f6=6, f7=7)"
   ]
  },
  {
   "cell_type": "code",
   "execution_count": null,
   "metadata": {},
   "outputs": [],
   "source": [
    "data_dict = {\n",
    "    \"Device Model\": data.f1,\n",
    "    \"Operating System\": data.f2,\n",
    "    \"App Usage Time (min/day)\": data.f3,\n",
    "    \"Screen On Time (hours/day)\": data.f4,\n",
    "    \"Battery Drain (mAh/day)\": data.f5,\n",
    "    \"Number of Apps Installed\": data.f6,\n",
    "    \"Data Usage (MB/day)\": data.f7,\n",
    "}"
   ]
  },
  {
   "cell_type": "code",
   "execution_count": null,
   "metadata": {},
   "outputs": [],
   "source": [
    "input_data = pd.DataFrame(data_dict, index=[0])"
   ]
  },
  {
   "cell_type": "code",
   "execution_count": null,
   "metadata": {},
   "outputs": [],
   "source": [
    "new_feature = pd.DataFrame(new_features(input_data))"
   ]
  },
  {
   "cell_type": "code",
   "execution_count": null,
   "metadata": {},
   "outputs": [],
   "source": [
    "features = pd.concat([input_data, new_feature], axis=1)"
   ]
  },
  {
   "cell_type": "code",
   "execution_count": null,
   "metadata": {},
   "outputs": [],
   "source": [
    "features"
   ]
  },
  {
   "cell_type": "code",
   "execution_count": null,
   "metadata": {},
   "outputs": [],
   "source": [
    "model.predict_client(features).tolist()[0]"
   ]
  },
  {
   "cell_type": "code",
   "execution_count": null,
   "metadata": {},
   "outputs": [],
   "source": [
    "class ModelPredictor:\n",
    "    FEATURE_MAPPING = {\n",
    "        \"Device Model\": \"f1\",\n",
    "        \"Operating System\": \"f2\",\n",
    "        \"App Usage Time (min/day)\": \"f3\",\n",
    "        \"Screen On Time (hours/day)\": \"f4\",\n",
    "        \"Battery Drain (mAh/day)\": \"f5\",\n",
    "        \"Number of Apps Installed\": \"f6\",\n",
    "        \"Data Usage (MB/day)\": \"f7\"\n",
    "    }\n",
    "\n",
    "    def __init__(self, model_path: str) -> None:\n",
    "        self.model = joblib.load(model_path)\n",
    "\n",
    "    def _create_input_dataframe(self, data: InputData) -> pd.DataFrame:\n",
    "        return pd.DataFrame({\n",
    "            col_name: getattr(data, attr_name)\n",
    "            for col_name, attr_name in self.FEATURE_MAPPING.items()\n",
    "        }, index=[0])\n",
    "\n",
    "    def predict(self, data):\n",
    "        base_features = self._create_input_dataframe(data)\n",
    "        derived_features = pd.DataFrame(new_features(base_features))\n",
    "        complete_features = pd.concat([base_features, derived_features], axis=1)\n",
    "        return self.model.predict_client(complete_features).tolist()[0]"
   ]
  },
  {
   "cell_type": "code",
   "execution_count": null,
   "metadata": {},
   "outputs": [],
   "source": [
    "predictor = ModelPredictor(MODEL_PATH)"
   ]
  },
  {
   "cell_type": "code",
   "execution_count": null,
   "metadata": {},
   "outputs": [],
   "source": [
    "predictor.predict(data)"
   ]
  }
 ],
 "metadata": {
  "kernelspec": {
   "display_name": "venv",
   "language": "python",
   "name": "python3"
  },
  "language_info": {
   "codemirror_mode": {
    "name": "ipython",
    "version": 3
   },
   "file_extension": ".py",
   "mimetype": "text/x-python",
   "name": "python",
   "nbconvert_exporter": "python",
   "pygments_lexer": "ipython3",
   "version": "3.12.3"
  }
 },
 "nbformat": 4,
 "nbformat_minor": 2
}
